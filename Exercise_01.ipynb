{
  "nbformat": 4,
  "nbformat_minor": 0,
  "metadata": {
    "colab": {
      "provenance": [],
      "authorship_tag": "ABX9TyO680qTdTEWKQfMcIkqnuYI",
      "include_colab_link": true
    },
    "kernelspec": {
      "name": "python3",
      "display_name": "Python 3"
    },
    "language_info": {
      "name": "python"
    }
  },
  "cells": [
    {
      "cell_type": "markdown",
      "metadata": {
        "id": "view-in-github",
        "colab_type": "text"
      },
      "source": [
        "<a href=\"https://colab.research.google.com/github/JustineKateAlbero/CPEN65-1/blob/main/Exercise_01.ipynb\" target=\"_parent\"><img src=\"https://colab.research.google.com/assets/colab-badge.svg\" alt=\"Open In Colab\"/></a>"
      ]
    },
    {
      "cell_type": "markdown",
      "source": [
        "**Exercise**\n",
        "1. Create a python program that use Array.\n",
        "2. Insert each character of your full anme and display each character of your full name in reverse order."
      ],
      "metadata": {
        "id": "-bh6cOJzc3J2"
      }
    },
    {
      "cell_type": "code",
      "source": [
        "Fullname = [\"J\",\"U\",\"S\",\"T\",\"I\",\"N\",\"E\",\" \", \"K\",\"A\",\"T\",\"E\",\" \",\"P\",\" \",\"A\",\"L\",\"B\",\"E\",\"R\",\"O\"]\n",
        "Fullname.reverse()\n",
        "print(Fullname)"
      ],
      "metadata": {
        "colab": {
          "base_uri": "https://localhost:8080/"
        },
        "id": "HaW1Bjx0dG24",
        "outputId": "a857712a-b06c-40f8-e786-a7728220ed5c"
      },
      "execution_count": 1,
      "outputs": [
        {
          "output_type": "stream",
          "name": "stdout",
          "text": [
            "['O', 'R', 'E', 'B', 'L', 'A', ' ', 'P', ' ', 'E', 'T', 'A', 'K', ' ', 'E', 'N', 'I', 'T', 'S', 'U', 'J']\n"
          ]
        }
      ]
    }
  ]
}