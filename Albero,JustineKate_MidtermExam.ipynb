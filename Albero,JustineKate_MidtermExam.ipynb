{
  "nbformat": 4,
  "nbformat_minor": 0,
  "metadata": {
    "colab": {
      "provenance": [],
      "authorship_tag": "ABX9TyPs/RIIAbETlWEksgCIL2lm",
      "include_colab_link": true
    },
    "kernelspec": {
      "name": "python3",
      "display_name": "Python 3"
    },
    "language_info": {
      "name": "python"
    }
  },
  "cells": [
    {
      "cell_type": "markdown",
      "metadata": {
        "id": "view-in-github",
        "colab_type": "text"
      },
      "source": [
        "<a href=\"https://colab.research.google.com/github/JustineKateAlbero/CPEN65-1/blob/main/Albero%2CJustineKate_MidtermExam.ipynb\" target=\"_parent\"><img src=\"https://colab.research.google.com/assets/colab-badge.svg\" alt=\"Open In Colab\"/></a>"
      ]
    },
    {
      "cell_type": "code",
      "source": [
        "#1. Write a Python program to create an array of 10 integers and display the array items. Access individual elements through indexes and compute for the sum.\n",
        "import array as arr\n",
        "a = arr.array(\"i\", [1,2,3,4,5,6,7,8,9,10])\n",
        "for index, val in enumerate(a):\n",
        "  print(\"Array\", [index], \"=\", val)\n",
        "\n",
        "ans = sum(int)\n",
        "print(\"The sum of the 10 integers in the array is\", ans,\".\")"
      ],
      "metadata": {
        "colab": {
          "base_uri": "https://localhost:8080/"
        },
        "id": "9wiIoG2oePLb",
        "outputId": "6fcfa153-ff74-47f4-84e3-88318d4107d6"
      },
      "execution_count": 30,
      "outputs": [
        {
          "output_type": "stream",
          "name": "stdout",
          "text": [
            "Array [0] = 1\n",
            "Array [1] = 2\n",
            "Array [2] = 3\n",
            "Array [3] = 4\n",
            "Array [4] = 5\n",
            "Array [5] = 6\n",
            "Array [6] = 7\n",
            "Array [7] = 8\n",
            "Array [8] = 9\n",
            "Array [9] = 10\n",
            "The sum of the 10 integers in the array is 55 .\n"
          ]
        }
      ]
    },
    {
      "cell_type": "code",
      "source": [
        "#2. Write a Python program to append a new item to the end of the array. Original array: numbers = [1, 2, 3, 4, 5, 6, 7, 8, 9, 10]\n",
        "numbers = [1, 2, 3, 4, 5, 6, 7, 8, 9, 10]\n",
        "numbers.append(11)\n",
        "print(numbers)\n"
      ],
      "metadata": {
        "colab": {
          "base_uri": "https://localhost:8080/"
        },
        "id": "qdYMcj6tHpvX",
        "outputId": "b69722ca-905d-494b-c49e-291e47e4ad13"
      },
      "execution_count": 1,
      "outputs": [
        {
          "output_type": "stream",
          "name": "stdout",
          "text": [
            "[1, 2, 3, 4, 5, 6, 7, 8, 9, 10, 11]\n"
          ]
        }
      ]
    },
    {
      "cell_type": "code",
      "source": [
        "#3. Write a Python program to insert a new item before the last element in an existing array. Original array: numbers = [1, 2, 3, 4, 5, 6, 7, 8, 9, 10]\n",
        "numbers = [1, 2, 3, 4, 5, 6, 7, 8, 9, 10]\n",
        "numbers.insert(-1,11)\n",
        "print(numbers)"
      ],
      "metadata": {
        "colab": {
          "base_uri": "https://localhost:8080/"
        },
        "id": "yObgDLeEH_CX",
        "outputId": "7a3021ee-307b-4d17-80fd-38eadcc6f6fa"
      },
      "execution_count": 25,
      "outputs": [
        {
          "output_type": "stream",
          "name": "stdout",
          "text": [
            "[1, 2, 3, 4, 5, 6, 7, 8, 9, 11, 10]\n"
          ]
        }
      ]
    },
    {
      "cell_type": "code",
      "source": [
        "#4. Write a Python program to reverse the order of the items in the array. Original array: numbers = [1, 2, 3, 4, 5]\n",
        "numbers = [1, 2, 3, 4, 5]\n",
        "numbers.reverse()\n",
        "print(numbers)"
      ],
      "metadata": {
        "colab": {
          "base_uri": "https://localhost:8080/"
        },
        "id": "FCt8aJFXIXlu",
        "outputId": "e8bef7bf-d8bb-4567-88be-57ff59e7caea"
      },
      "execution_count": 3,
      "outputs": [
        {
          "output_type": "stream",
          "name": "stdout",
          "text": [
            "[5, 4, 3, 2, 1]\n"
          ]
        }
      ]
    },
    {
      "cell_type": "markdown",
      "source": [
        "**Algorithm for number 5:**\n",
        "\n",
        "**Let A be an array of size n ≥ 2 containing integers from 1 to n−1, inclusive, with exactly one repeated. Create an algorithm for finding the integer in A that is repeated.**\n",
        "\n",
        "1. Start\n",
        "2. Declare array name as A\n",
        "3. Input atleast 2 values in the array from 1 to n-1 with exactly one repeated integer\n",
        "4. With the use of nested for loops, duplicate integers will be found. The outer loop will iterate through the array and select an integer to be compared to the rest of the integers in the array using the inner loop.\n",
        "5. If integers from both loop matches, the repeated element is found.\n",
        "6. Display the repeated integer.\n",
        "7. End \n"
      ],
      "metadata": {
        "id": "ZwU8so3mVvU4"
      }
    },
    {
      "cell_type": "code",
      "source": [
        "#5. Let A be an array of size n ≥ 2 containing integers from 1 to n−1, inclusive, with exactly one repeated. Create an algorithm for finding the integer in A that is repeated.\n",
        "A = [1,2,3,4,4,5,6]\n",
        "i = len(A)\n",
        "\n",
        "#Finding the repeated integer in array A\n",
        "def RepeatedInt(A,i):\n",
        "  for x in range (i):\n",
        "    for y in range(x+1, i):\n",
        "      if(A[x] == A[y]):\n",
        "         return A[x]\n",
        "\n",
        "print(\"Repeated integer:\", (RepeatedInt(A,i)))"
      ],
      "metadata": {
        "colab": {
          "base_uri": "https://localhost:8080/"
        },
        "id": "5QXQwZHtIhVq",
        "outputId": "120281df-d375-435c-c23a-37084f632511"
      },
      "execution_count": 24,
      "outputs": [
        {
          "output_type": "stream",
          "name": "stdout",
          "text": [
            "Repeated integer: 4\n"
          ]
        }
      ]
    }
  ]
}