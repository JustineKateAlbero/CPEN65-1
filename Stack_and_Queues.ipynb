{
  "nbformat": 4,
  "nbformat_minor": 0,
  "metadata": {
    "colab": {
      "provenance": [],
      "authorship_tag": "ABX9TyNijoAWiZNiAtHsPWww3KIH",
      "include_colab_link": true
    },
    "kernelspec": {
      "name": "python3",
      "display_name": "Python 3"
    },
    "language_info": {
      "name": "python"
    }
  },
  "cells": [
    {
      "cell_type": "markdown",
      "metadata": {
        "id": "view-in-github",
        "colab_type": "text"
      },
      "source": [
        "<a href=\"https://colab.research.google.com/github/JustineKateAlbero/CPEN65-1/blob/main/Stack_and_Queues.ipynb\" target=\"_parent\"><img src=\"https://colab.research.google.com/assets/colab-badge.svg\" alt=\"Open In Colab\"/></a>"
      ]
    },
    {
      "cell_type": "code",
      "execution_count": 11,
      "metadata": {
        "colab": {
          "base_uri": "https://localhost:8080/"
        },
        "id": "7v2BrSt6e4q3",
        "outputId": "ff8f25f4-a21f-4d23-a137-1879679f1ee4"
      },
      "outputs": [
        {
          "output_type": "stream",
          "name": "stdout",
          "text": [
            "['A', 'B', 'C']\n",
            "['A', 'B']\n",
            "['A']\n"
          ]
        }
      ],
      "source": [
        "class Stack:\n",
        "  def __init__(self):\n",
        "    self.stack = []     #stack implementation using OOP concepts\n",
        "\n",
        "  def push(self,dataval):\n",
        "    if dataval not in self.stack:\n",
        "      return self.stack.append(dataval)\n",
        "    else:\n",
        "      return False\n",
        "    \n",
        "  def pop(self):\n",
        "    if len(self.stack)<=0:\n",
        "      return (\"No element in the stack\")\n",
        "    else:\n",
        "      return self.stack.pop()\n",
        "\n",
        "AStack = Stack()\n",
        "AStack.push(\"A\")\n",
        "AStack.push(\"B\")\n",
        "AStack.push(\"C\")\n",
        "print(AStack.stack)\n",
        "AStack.pop()\n",
        "print(AStack.stack)\n",
        "AStack.pop()\n",
        "print(AStack.stack)\n"
      ]
    },
    {
      "cell_type": "code",
      "source": [
        "#Application\n",
        "#Implement by Queues (enqueue and dequeue / FIFO)\n",
        "\n",
        "\n",
        "class Queues:\n",
        "  def __init__(self):\n",
        "    self.queues = []     \n",
        "\n",
        "\n",
        "  def enqueue(self,dataval):\n",
        "    if dataval not in self.queues:\n",
        "      return self.queues.append(dataval)\n",
        "    else:\n",
        "      return False\n",
        "    \n",
        "  def dequeue(self):\n",
        "    if len(self.queues)<=0:\n",
        "      return (\"No element in the queue.\")\n",
        "    else:\n",
        "      return self.queues.pop(0)\n",
        "\n",
        "AQueue = Queues()\n",
        "AQueue.enqueue(\"A\")\n",
        "AQueue.enqueue(\"B\")\n",
        "AQueue.enqueue(\"C\")\n",
        "AQueue.enqueue(\"D\")\n",
        "AQueue.enqueue(\"E\")\n",
        "print(AQueue.queues)\n",
        "AQueue.dequeue()\n",
        "print(AQueue.queues)\n",
        "AQueue.dequeue()\n",
        "print(AQueue.queues)\n",
        "AQueue.dequeue()\n",
        "print(AQueue.queues)\n",
        "AQueue.dequeue()\n",
        "print(AQueue.queues)"
      ],
      "metadata": {
        "colab": {
          "base_uri": "https://localhost:8080/"
        },
        "id": "-M9rdLdDiDct",
        "outputId": "c83448a4-065b-46c8-8004-ffd77b10a416"
      },
      "execution_count": 26,
      "outputs": [
        {
          "output_type": "stream",
          "name": "stdout",
          "text": [
            "['A', 'B', 'C', 'D', 'E']\n",
            "['B', 'C', 'D', 'E']\n",
            "['C', 'D', 'E']\n",
            "['D', 'E']\n",
            "['E']\n"
          ]
        }
      ]
    },
    {
      "cell_type": "code",
      "source": [
        "Array = [5,2,3]\n",
        "\n",
        "Array.pop()\n",
        "print(Array)\n",
        "\n",
        "Array.append(4)\n",
        "print(Array)\n",
        "\n",
        "Array.pop(0)\n",
        "print(Array)"
      ],
      "metadata": {
        "colab": {
          "base_uri": "https://localhost:8080/"
        },
        "id": "u82QuNnGijLy",
        "outputId": "05493f4c-88c8-4079-d33f-48aee042abda"
      },
      "execution_count": 23,
      "outputs": [
        {
          "output_type": "stream",
          "name": "stdout",
          "text": [
            "[5, 2]\n",
            "[5, 2, 4]\n",
            "[2, 4]\n"
          ]
        }
      ]
    }
  ]
}